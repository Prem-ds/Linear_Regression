{
  "nbformat": 4,
  "nbformat_minor": 0,
  "metadata": {
    "colab": {
      "provenance": [],
      "authorship_tag": "ABX9TyOjhw6n06dszlz2uNnXLrd9",
      "include_colab_link": true
    },
    "kernelspec": {
      "name": "python3",
      "display_name": "Python 3"
    },
    "language_info": {
      "name": "python"
    }
  },
  "cells": [
    {
      "cell_type": "markdown",
      "metadata": {
        "id": "view-in-github",
        "colab_type": "text"
      },
      "source": [
        "<a href=\"https://colab.research.google.com/github/Prem-ds/Linear_Regression/blob/main/Copy_of_Sentiment_Analysis_with_LSTM_(IMDB_Reviews).ipynb\" target=\"_parent\"><img src=\"https://colab.research.google.com/assets/colab-badge.svg\" alt=\"Open In Colab\"/></a>"
      ]
    },
    {
      "cell_type": "code",
      "execution_count": null,
      "metadata": {
        "id": "4DfZLybLm5K2"
      },
      "outputs": [],
      "source": [
        "# Step 1: import the Libraries\n",
        "import tensorflow as tf\n",
        "from tensorflow.keras import layers, models\n",
        "from tensorflow.keras.datasets import imdb\n",
        "from tensorflow.keras.preprocessing import sequence"
      ]
    },
    {
      "cell_type": "markdown",
      "source": [],
      "metadata": {
        "id": "iWb5Sq0boIKW"
      }
    },
    {
      "cell_type": "code",
      "source": [
        "# Step 2 : Load IMDB Dataset\n",
        "# Load dataset (keep top 10,000 most frequent words)\n",
        "num_words = 10000\n",
        "(x_train, y_train), (x_test, y_test) = imdb.load_data(num_words=num_words)\n"
      ],
      "metadata": {
        "id": "Mbb-xYzroJC0",
        "colab": {
          "base_uri": "https://localhost:8080/"
        },
        "outputId": "962047c5-f932-4468-c8ef-a51bd6f170d2"
      },
      "execution_count": null,
      "outputs": [
        {
          "output_type": "stream",
          "name": "stdout",
          "text": [
            "Downloading data from https://storage.googleapis.com/tensorflow/tf-keras-datasets/imdb.npz\n",
            "\u001b[1m17464789/17464789\u001b[0m \u001b[32m━━━━━━━━━━━━━━━━━━━━\u001b[0m\u001b[37m\u001b[0m \u001b[1m0s\u001b[0m 0us/step\n"
          ]
        }
      ]
    },
    {
      "cell_type": "markdown",
      "source": [
        "###### 1- The IMDB dataset is already available in tf.keras.datasets\n",
        "###### 2 - Its contains 50,000 reviews (25k train , 25k test), labeled 0= negative, 1 = Positive\n",
        "\n"
      ],
      "metadata": {
        "id": "ZBwmk4aqoh0z"
      }
    },
    {
      "cell_type": "code",
      "source": [
        "# Step 3 Preprocess (padding Sequences)\n",
        "# we will pad/trancate each review to length 200 words.\n",
        "\n",
        "max_len = 200\n",
        "x_train = sequence.pad_sequences(x_train, maxlen=max_len)\n",
        "x_test = sequence.pad_sequences(x_test, maxlen=max_len)\n",
        "\n"
      ],
      "metadata": {
        "id": "xWADbOYMpKir"
      },
      "execution_count": null,
      "outputs": []
    },
    {
      "cell_type": "code",
      "source": [
        "# Step 4 Build the LSTM Model\n",
        "\n",
        "model = models.Sequential([\n",
        "    layers.Embedding(input_dim=num_words, output_dim=128, input_length=max_len),\n",
        "    layers.LSTM(128, dropout=0.2, recurrent_dropout=0.2),\n",
        "    layers.Dense(1, activation='sigmoid')  # Binary classification\n",
        "])\n"
      ],
      "metadata": {
        "id": "rhBWiZF_qHda",
        "colab": {
          "base_uri": "https://localhost:8080/"
        },
        "outputId": "c6859041-6a1f-4c24-d5fe-520530c5366e"
      },
      "execution_count": null,
      "outputs": [
        {
          "output_type": "stream",
          "name": "stderr",
          "text": [
            "/usr/local/lib/python3.12/dist-packages/keras/src/layers/core/embedding.py:97: UserWarning: Argument `input_length` is deprecated. Just remove it.\n",
            "  warnings.warn(\n"
          ]
        }
      ]
    },
    {
      "cell_type": "code",
      "source": [
        "# Step 5 complie the model\n",
        "\n",
        "model.compile(\n",
        "    loss='binary_crossentropy',\n",
        "    optimizer='adam',\n",
        "    metrics=['accuracy']\n",
        ")\n"
      ],
      "metadata": {
        "id": "Aqv7cV-GqXly"
      },
      "execution_count": null,
      "outputs": []
    },
    {
      "cell_type": "code",
      "source": [
        "# Step 6 Train the Model\n",
        "\n",
        "history = model.fit(\n",
        "    x_train, y_train,\n",
        "    batch_size=64,\n",
        "    epochs=5,\n",
        "    validation_data=(x_test, y_test),\n",
        "    verbose=2\n",
        ")\n"
      ],
      "metadata": {
        "id": "kKwk0myzqe3l",
        "colab": {
          "base_uri": "https://localhost:8080/"
        },
        "outputId": "e3cfe75a-9d09-4ccc-c0b1-b83f30dc0a27"
      },
      "execution_count": null,
      "outputs": [
        {
          "output_type": "stream",
          "name": "stdout",
          "text": [
            "Epoch 1/5\n",
            "391/391 - 322s - 825ms/step - accuracy: 0.7630 - loss: 0.4903 - val_accuracy: 0.8390 - val_loss: 0.3823\n",
            "Epoch 2/5\n",
            "391/391 - 323s - 827ms/step - accuracy: 0.8612 - loss: 0.3363 - val_accuracy: 0.8476 - val_loss: 0.3554\n",
            "Epoch 3/5\n",
            "391/391 - 323s - 826ms/step - accuracy: 0.8809 - loss: 0.2920 - val_accuracy: 0.8413 - val_loss: 0.3907\n",
            "Epoch 4/5\n",
            "391/391 - 322s - 823ms/step - accuracy: 0.8856 - loss: 0.2843 - val_accuracy: 0.8596 - val_loss: 0.3433\n",
            "Epoch 5/5\n",
            "391/391 - 323s - 827ms/step - accuracy: 0.9207 - loss: 0.2059 - val_accuracy: 0.8584 - val_loss: 0.3557\n"
          ]
        }
      ]
    },
    {
      "cell_type": "code",
      "source": [
        "# Step 7 Evalute on the Test data\n",
        "\n",
        "test_loss, test_acc = model.evaluate(x_test, y_test, verbose=2)\n",
        "print(f\"Test accuracy: {test_acc:.2f}\")\n"
      ],
      "metadata": {
        "id": "ZgcjIJLUqoQe",
        "colab": {
          "base_uri": "https://localhost:8080/"
        },
        "outputId": "41f7e45b-978e-4b8a-c108-1ff87d2c19eb"
      },
      "execution_count": null,
      "outputs": [
        {
          "output_type": "stream",
          "name": "stdout",
          "text": [
            "782/782 - 60s - 76ms/step - accuracy: 0.8584 - loss: 0.3557\n",
            "Test accuracy: 0.86\n"
          ]
        }
      ]
    },
    {
      "cell_type": "code",
      "source": [
        "# Step 8 Plot Accuracy /Loss Curves\n",
        "\n",
        "import matplotlib.pyplot as plt\n",
        "\n",
        "plt.plot(history.history['accuracy'], label='train acc')\n",
        "plt.plot(history.history['val_accuracy'], label='val acc')\n",
        "plt.xlabel(\"Epochs\")\n",
        "plt.ylabel(\"Accuracy\")\n",
        "plt.legend()\n",
        "plt.show()\n"
      ],
      "metadata": {
        "id": "41dKzTOKqwxg",
        "colab": {
          "base_uri": "https://localhost:8080/",
          "height": 449
        },
        "outputId": "eb80c13f-bf3b-4cdc-f84c-66e15ffd1a71"
      },
      "execution_count": null,
      "outputs": [
        {
          "output_type": "display_data",
          "data": {
            "text/plain": [
              "<Figure size 640x480 with 1 Axes>"
            ],
            "image/png": "[encoded data removed]"
          },
          "metadata": {}
        }
      ]
    }
  ]
}